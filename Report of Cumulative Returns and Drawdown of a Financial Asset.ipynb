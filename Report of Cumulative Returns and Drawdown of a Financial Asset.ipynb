{
 "cells": [
  {
   "cell_type": "markdown",
   "metadata": {},
   "source": [
    "# Cálculo de Retornos acumulados & Drwadown"
   ]
  },
  {
   "cell_type": "code",
   "execution_count": 375,
   "metadata": {},
   "outputs": [],
   "source": [
    "# Import Libraries\n",
    "import yfinance as yf\n",
    "import pandas as pd\n",
    "import numpy as np\n",
    "import matplotlib.pyplot as plt\n",
    "import seaborn as sns\n",
    "from datetime import datetime, timedelta, date\n",
    "import mplfinance as mpf\n",
    "import math\n",
    "import os\n",
    "\n",
    "import ta # librería para indicadores técnicos\n",
    "from scipy.stats import norm # Para la distribución normal\n",
    "from math import sqrt\n",
    "\n",
    "from io import StringIO"
   ]
  },
  {
   "cell_type": "code",
   "execution_count": 376,
   "metadata": {},
   "outputs": [],
   "source": [
    "# Definir Ticker\n",
    "ticker = \"MSFT\"\n",
    "ticker1 = yf.Ticker(ticker)\n",
    "\n",
    "# Obtener información general de la empresa\n",
    "info_empresa = ticker1.info\n",
    "longName = str(info_empresa['longName'])\n",
    "industry = str(info_empresa['industry'])\n",
    "marketCap = round((info_empresa['marketCap'] / 1e9),2)"
   ]
  },
  {
   "cell_type": "code",
   "execution_count": 377,
   "metadata": {},
   "outputs": [],
   "source": [
    "# Definir fechas\n",
    "today = date.today()\n",
    "\n",
    "end = today - timedelta(days = 1)\n",
    "start = end - timedelta(days = 1460)\n",
    "today_format = today.strftime(\"%Y-%m-%d\") # Formato: YYYY-MM-DD#Definir fechas de análisis\n",
    "start = start.strftime(\"%Y-%m-%d\")\n",
    "end = end.strftime(\"%Y-%m-%d\")"
   ]
  },
  {
   "cell_type": "code",
   "execution_count": 378,
   "metadata": {},
   "outputs": [
    {
     "name": "stderr",
     "output_type": "stream",
     "text": [
      "<ipython-input-378-4de1882c9c08>:2: FutureWarning: YF.download() has changed argument auto_adjust default to True\n",
      "  data = yf.download(ticker, start = start , end = end)\n",
      "[*********************100%***********************]  1 of 1 completed\n"
     ]
    }
   ],
   "source": [
    "#Descargar data de ticker desde yfinance\n",
    "data = yf.download(ticker, start = start , end = end)"
   ]
  },
  {
   "cell_type": "code",
   "execution_count": 379,
   "metadata": {},
   "outputs": [
    {
     "data": {
      "text/html": [
       "<div>\n",
       "<style scoped>\n",
       "    .dataframe tbody tr th:only-of-type {\n",
       "        vertical-align: middle;\n",
       "    }\n",
       "\n",
       "    .dataframe tbody tr th {\n",
       "        vertical-align: top;\n",
       "    }\n",
       "\n",
       "    .dataframe thead tr th {\n",
       "        text-align: left;\n",
       "    }\n",
       "\n",
       "    .dataframe thead tr:last-of-type th {\n",
       "        text-align: right;\n",
       "    }\n",
       "</style>\n",
       "<table border=\"1\" class=\"dataframe\">\n",
       "  <thead>\n",
       "    <tr>\n",
       "      <th>Price</th>\n",
       "      <th>Close</th>\n",
       "      <th>High</th>\n",
       "      <th>Low</th>\n",
       "      <th>Open</th>\n",
       "      <th>Volume</th>\n",
       "    </tr>\n",
       "    <tr>\n",
       "      <th>Ticker</th>\n",
       "      <th>MSFT</th>\n",
       "      <th>MSFT</th>\n",
       "      <th>MSFT</th>\n",
       "      <th>MSFT</th>\n",
       "      <th>MSFT</th>\n",
       "    </tr>\n",
       "    <tr>\n",
       "      <th>Date</th>\n",
       "      <th></th>\n",
       "      <th></th>\n",
       "      <th></th>\n",
       "      <th></th>\n",
       "      <th></th>\n",
       "    </tr>\n",
       "  </thead>\n",
       "  <tbody>\n",
       "    <tr>\n",
       "      <th>2021-08-12</th>\n",
       "      <td>280.351227</td>\n",
       "      <td>280.506008</td>\n",
       "      <td>276.994479</td>\n",
       "      <td>277.275022</td>\n",
       "      <td>14561300</td>\n",
       "    </tr>\n",
       "    <tr>\n",
       "      <th>2021-08-13</th>\n",
       "      <td>283.292053</td>\n",
       "      <td>283.340410</td>\n",
       "      <td>279.857899</td>\n",
       "      <td>280.032047</td>\n",
       "      <td>18249000</td>\n",
       "    </tr>\n",
       "    <tr>\n",
       "      <th>2021-08-16</th>\n",
       "      <td>284.984894</td>\n",
       "      <td>285.197715</td>\n",
       "      <td>280.554359</td>\n",
       "      <td>283.620910</td>\n",
       "      <td>22507600</td>\n",
       "    </tr>\n",
       "    <tr>\n",
       "      <th>2021-08-17</th>\n",
       "      <td>283.514465</td>\n",
       "      <td>283.853048</td>\n",
       "      <td>281.579741</td>\n",
       "      <td>282.847013</td>\n",
       "      <td>20075300</td>\n",
       "    </tr>\n",
       "    <tr>\n",
       "      <th>2021-08-18</th>\n",
       "      <td>281.779694</td>\n",
       "      <td>285.743777</td>\n",
       "      <td>281.333834</td>\n",
       "      <td>283.049362</td>\n",
       "      <td>21813000</td>\n",
       "    </tr>\n",
       "  </tbody>\n",
       "</table>\n",
       "</div>"
      ],
      "text/plain": [
       "Price            Close        High         Low        Open    Volume\n",
       "Ticker            MSFT        MSFT        MSFT        MSFT      MSFT\n",
       "Date                                                                \n",
       "2021-08-12  280.351227  280.506008  276.994479  277.275022  14561300\n",
       "2021-08-13  283.292053  283.340410  279.857899  280.032047  18249000\n",
       "2021-08-16  284.984894  285.197715  280.554359  283.620910  22507600\n",
       "2021-08-17  283.514465  283.853048  281.579741  282.847013  20075300\n",
       "2021-08-18  281.779694  285.743777  281.333834  283.049362  21813000"
      ]
     },
     "execution_count": 379,
     "metadata": {},
     "output_type": "execute_result"
    }
   ],
   "source": [
    "# Preview data\n",
    "data.head()"
   ]
  },
  {
   "cell_type": "code",
   "execution_count": 380,
   "metadata": {},
   "outputs": [],
   "source": [
    "# Save the data to CSV file\n",
    "data.to_csv(\"data.csv\")"
   ]
  },
  {
   "cell_type": "code",
   "execution_count": 381,
   "metadata": {},
   "outputs": [
    {
     "data": {
      "text/html": [
       "<div>\n",
       "<style scoped>\n",
       "    .dataframe tbody tr th:only-of-type {\n",
       "        vertical-align: middle;\n",
       "    }\n",
       "\n",
       "    .dataframe tbody tr th {\n",
       "        vertical-align: top;\n",
       "    }\n",
       "\n",
       "    .dataframe thead th {\n",
       "        text-align: right;\n",
       "    }\n",
       "</style>\n",
       "<table border=\"1\" class=\"dataframe\">\n",
       "  <thead>\n",
       "    <tr style=\"text-align: right;\">\n",
       "      <th></th>\n",
       "      <th>Unnamed: 1</th>\n",
       "      <th>Unnamed: 2</th>\n",
       "      <th>Unnamed: 3</th>\n",
       "      <th>Unnamed: 4</th>\n",
       "      <th>Unnamed: 5</th>\n",
       "    </tr>\n",
       "    <tr>\n",
       "      <th>Date</th>\n",
       "      <th></th>\n",
       "      <th></th>\n",
       "      <th></th>\n",
       "      <th></th>\n",
       "      <th></th>\n",
       "    </tr>\n",
       "  </thead>\n",
       "  <tbody>\n",
       "    <tr>\n",
       "      <th>2021-08-12</th>\n",
       "      <td>280.351227</td>\n",
       "      <td>280.506008</td>\n",
       "      <td>276.994479</td>\n",
       "      <td>277.275022</td>\n",
       "      <td>14561300</td>\n",
       "    </tr>\n",
       "    <tr>\n",
       "      <th>2021-08-13</th>\n",
       "      <td>283.292053</td>\n",
       "      <td>283.340410</td>\n",
       "      <td>279.857899</td>\n",
       "      <td>280.032047</td>\n",
       "      <td>18249000</td>\n",
       "    </tr>\n",
       "    <tr>\n",
       "      <th>2021-08-16</th>\n",
       "      <td>284.984894</td>\n",
       "      <td>285.197715</td>\n",
       "      <td>280.554359</td>\n",
       "      <td>283.620910</td>\n",
       "      <td>22507600</td>\n",
       "    </tr>\n",
       "    <tr>\n",
       "      <th>2021-08-17</th>\n",
       "      <td>283.514465</td>\n",
       "      <td>283.853048</td>\n",
       "      <td>281.579741</td>\n",
       "      <td>282.847013</td>\n",
       "      <td>20075300</td>\n",
       "    </tr>\n",
       "    <tr>\n",
       "      <th>2021-08-18</th>\n",
       "      <td>281.779694</td>\n",
       "      <td>285.743777</td>\n",
       "      <td>281.333834</td>\n",
       "      <td>283.049362</td>\n",
       "      <td>21813000</td>\n",
       "    </tr>\n",
       "    <tr>\n",
       "      <th>...</th>\n",
       "      <td>...</td>\n",
       "      <td>...</td>\n",
       "      <td>...</td>\n",
       "      <td>...</td>\n",
       "      <td>...</td>\n",
       "    </tr>\n",
       "    <tr>\n",
       "      <th>2025-08-04</th>\n",
       "      <td>535.640015</td>\n",
       "      <td>538.250000</td>\n",
       "      <td>528.130005</td>\n",
       "      <td>528.270020</td>\n",
       "      <td>25349000</td>\n",
       "    </tr>\n",
       "    <tr>\n",
       "      <th>2025-08-05</th>\n",
       "      <td>527.750000</td>\n",
       "      <td>537.299988</td>\n",
       "      <td>527.239990</td>\n",
       "      <td>537.179993</td>\n",
       "      <td>19171600</td>\n",
       "    </tr>\n",
       "    <tr>\n",
       "      <th>2025-08-06</th>\n",
       "      <td>524.940002</td>\n",
       "      <td>531.700012</td>\n",
       "      <td>524.030029</td>\n",
       "      <td>530.900024</td>\n",
       "      <td>21355700</td>\n",
       "    </tr>\n",
       "    <tr>\n",
       "      <th>2025-08-07</th>\n",
       "      <td>520.840027</td>\n",
       "      <td>528.090027</td>\n",
       "      <td>517.549988</td>\n",
       "      <td>526.799988</td>\n",
       "      <td>16079100</td>\n",
       "    </tr>\n",
       "    <tr>\n",
       "      <th>2025-08-08</th>\n",
       "      <td>522.039978</td>\n",
       "      <td>524.659973</td>\n",
       "      <td>519.409973</td>\n",
       "      <td>522.599976</td>\n",
       "      <td>15531000</td>\n",
       "    </tr>\n",
       "  </tbody>\n",
       "</table>\n",
       "<p>1002 rows × 5 columns</p>\n",
       "</div>"
      ],
      "text/plain": [
       "            Unnamed: 1  Unnamed: 2  Unnamed: 3  Unnamed: 4  Unnamed: 5\n",
       "Date                                                                  \n",
       "2021-08-12  280.351227  280.506008  276.994479  277.275022    14561300\n",
       "2021-08-13  283.292053  283.340410  279.857899  280.032047    18249000\n",
       "2021-08-16  284.984894  285.197715  280.554359  283.620910    22507600\n",
       "2021-08-17  283.514465  283.853048  281.579741  282.847013    20075300\n",
       "2021-08-18  281.779694  285.743777  281.333834  283.049362    21813000\n",
       "...                ...         ...         ...         ...         ...\n",
       "2025-08-04  535.640015  538.250000  528.130005  528.270020    25349000\n",
       "2025-08-05  527.750000  537.299988  527.239990  537.179993    19171600\n",
       "2025-08-06  524.940002  531.700012  524.030029  530.900024    21355700\n",
       "2025-08-07  520.840027  528.090027  517.549988  526.799988    16079100\n",
       "2025-08-08  522.039978  524.659973  519.409973  522.599976    15531000\n",
       "\n",
       "[1002 rows x 5 columns]"
      ]
     },
     "execution_count": 381,
     "metadata": {},
     "output_type": "execute_result"
    }
   ],
   "source": [
    "# Leer la data from CSV file\n",
    "data = pd.read_csv(\"data.csv\", index_col=[0], header=0, skiprows=2, parse_dates=[0])\n",
    "data"
   ]
  },
  {
   "cell_type": "code",
   "execution_count": 382,
   "metadata": {},
   "outputs": [],
   "source": [
    "data.columns = ['Close', 'High', 'Low', 'Open','Volume']"
   ]
  },
  {
   "cell_type": "code",
   "execution_count": 383,
   "metadata": {},
   "outputs": [],
   "source": [
    "data = data.iloc[2:]"
   ]
  },
  {
   "cell_type": "code",
   "execution_count": 384,
   "metadata": {},
   "outputs": [],
   "source": [
    "data.index = pd.to_datetime(data.index, errors='coerce')"
   ]
  },
  {
   "cell_type": "code",
   "execution_count": 385,
   "metadata": {},
   "outputs": [
    {
     "data": {
      "text/html": [
       "<div>\n",
       "<style scoped>\n",
       "    .dataframe tbody tr th:only-of-type {\n",
       "        vertical-align: middle;\n",
       "    }\n",
       "\n",
       "    .dataframe tbody tr th {\n",
       "        vertical-align: top;\n",
       "    }\n",
       "\n",
       "    .dataframe thead th {\n",
       "        text-align: right;\n",
       "    }\n",
       "</style>\n",
       "<table border=\"1\" class=\"dataframe\">\n",
       "  <thead>\n",
       "    <tr style=\"text-align: right;\">\n",
       "      <th></th>\n",
       "      <th>Close</th>\n",
       "      <th>High</th>\n",
       "      <th>Low</th>\n",
       "      <th>Open</th>\n",
       "      <th>Volume</th>\n",
       "    </tr>\n",
       "  </thead>\n",
       "  <tbody>\n",
       "    <tr>\n",
       "      <th>count</th>\n",
       "      <td>1000.000000</td>\n",
       "      <td>1000.000000</td>\n",
       "      <td>1000.000000</td>\n",
       "      <td>1000.000000</td>\n",
       "      <td>1.000000e+03</td>\n",
       "    </tr>\n",
       "    <tr>\n",
       "      <th>mean</th>\n",
       "      <td>343.480720</td>\n",
       "      <td>346.666337</td>\n",
       "      <td>340.000957</td>\n",
       "      <td>343.405226</td>\n",
       "      <td>2.572855e+07</td>\n",
       "    </tr>\n",
       "    <tr>\n",
       "      <th>std</th>\n",
       "      <td>76.267682</td>\n",
       "      <td>76.385677</td>\n",
       "      <td>76.069035</td>\n",
       "      <td>76.290326</td>\n",
       "      <td>1.044130e+07</td>\n",
       "    </tr>\n",
       "    <tr>\n",
       "      <th>min</th>\n",
       "      <td>209.393295</td>\n",
       "      <td>215.413662</td>\n",
       "      <td>208.591834</td>\n",
       "      <td>212.618450</td>\n",
       "      <td>7.164500e+06</td>\n",
       "    </tr>\n",
       "    <tr>\n",
       "      <th>25%</th>\n",
       "      <td>279.805504</td>\n",
       "      <td>282.679970</td>\n",
       "      <td>275.053351</td>\n",
       "      <td>279.979862</td>\n",
       "      <td>1.883232e+07</td>\n",
       "    </tr>\n",
       "    <tr>\n",
       "      <th>50%</th>\n",
       "      <td>327.837997</td>\n",
       "      <td>330.963610</td>\n",
       "      <td>325.052637</td>\n",
       "      <td>328.090468</td>\n",
       "      <td>2.312120e+07</td>\n",
       "    </tr>\n",
       "    <tr>\n",
       "      <th>75%</th>\n",
       "      <td>411.623947</td>\n",
       "      <td>414.739600</td>\n",
       "      <td>408.175648</td>\n",
       "      <td>412.480356</td>\n",
       "      <td>2.969512e+07</td>\n",
       "    </tr>\n",
       "    <tr>\n",
       "      <th>max</th>\n",
       "      <td>535.640015</td>\n",
       "      <td>555.450012</td>\n",
       "      <td>531.900024</td>\n",
       "      <td>555.229980</td>\n",
       "      <td>9.042890e+07</td>\n",
       "    </tr>\n",
       "  </tbody>\n",
       "</table>\n",
       "</div>"
      ],
      "text/plain": [
       "             Close         High          Low         Open        Volume\n",
       "count  1000.000000  1000.000000  1000.000000  1000.000000  1.000000e+03\n",
       "mean    343.480720   346.666337   340.000957   343.405226  2.572855e+07\n",
       "std      76.267682    76.385677    76.069035    76.290326  1.044130e+07\n",
       "min     209.393295   215.413662   208.591834   212.618450  7.164500e+06\n",
       "25%     279.805504   282.679970   275.053351   279.979862  1.883232e+07\n",
       "50%     327.837997   330.963610   325.052637   328.090468  2.312120e+07\n",
       "75%     411.623947   414.739600   408.175648   412.480356  2.969512e+07\n",
       "max     535.640015   555.450012   531.900024   555.229980  9.042890e+07"
      ]
     },
     "execution_count": 385,
     "metadata": {},
     "output_type": "execute_result"
    }
   ],
   "source": [
    "# Desc statistics\n",
    "data.describe()"
   ]
  },
  {
   "cell_type": "code",
   "execution_count": 386,
   "metadata": {},
   "outputs": [
    {
     "name": "stdout",
     "output_type": "stream",
     "text": [
      "<class 'pandas.core.frame.DataFrame'>\n",
      "DatetimeIndex: 1000 entries, 2021-08-16 to 2025-08-08\n",
      "Data columns (total 5 columns):\n",
      " #   Column  Non-Null Count  Dtype  \n",
      "---  ------  --------------  -----  \n",
      " 0   Close   1000 non-null   float64\n",
      " 1   High    1000 non-null   float64\n",
      " 2   Low     1000 non-null   float64\n",
      " 3   Open    1000 non-null   float64\n",
      " 4   Volume  1000 non-null   int64  \n",
      "dtypes: float64(4), int64(1)\n",
      "memory usage: 46.9 KB\n"
     ]
    }
   ],
   "source": [
    "# Info\n",
    "data.info()"
   ]
  },
  {
   "cell_type": "markdown",
   "metadata": {},
   "source": [
    "## Cálculo de Retornos Diarios"
   ]
  },
  {
   "cell_type": "code",
   "execution_count": 387,
   "metadata": {},
   "outputs": [
    {
     "name": "stderr",
     "output_type": "stream",
     "text": [
      "<ipython-input-387-b330461d6ae3>:2: SettingWithCopyWarning: \n",
      "A value is trying to be set on a copy of a slice from a DataFrame.\n",
      "Try using .loc[row_indexer,col_indexer] = value instead\n",
      "\n",
      "See the caveats in the documentation: https://pandas.pydata.org/pandas-docs/stable/user_guide/indexing.html#returning-a-view-versus-a-copy\n",
      "  data[\"d_returns\"] = np.log(data.Close.div(data.Close.shift(1)))\n"
     ]
    }
   ],
   "source": [
    "# Calculate Daily Returns\n",
    "data[\"d_returns\"] = np.log(data.Close.div(data.Close.shift(1)))"
   ]
  },
  {
   "cell_type": "code",
   "execution_count": 388,
   "metadata": {},
   "outputs": [
    {
     "name": "stderr",
     "output_type": "stream",
     "text": [
      "<ipython-input-388-f1116dacf2bb>:1: SettingWithCopyWarning: \n",
      "A value is trying to be set on a copy of a slice from a DataFrame\n",
      "\n",
      "See the caveats in the documentation: https://pandas.pydata.org/pandas-docs/stable/user_guide/indexing.html#returning-a-view-versus-a-copy\n",
      "  data.dropna(inplace=True)\n"
     ]
    }
   ],
   "source": [
    "data.dropna(inplace=True)"
   ]
  },
  {
   "cell_type": "markdown",
   "metadata": {},
   "source": [
    "## Cálculo de Retornos Acumulados"
   ]
  },
  {
   "cell_type": "code",
   "execution_count": 389,
   "metadata": {},
   "outputs": [
    {
     "data": {
      "text/plain": [
       "0.6053079965601036"
      ]
     },
     "execution_count": 389,
     "metadata": {},
     "output_type": "execute_result"
    }
   ],
   "source": [
    "# Calculate Sum Returns\n",
    "data.d_returns.sum()"
   ]
  },
  {
   "cell_type": "code",
   "execution_count": 390,
   "metadata": {},
   "outputs": [
    {
     "data": {
      "text/plain": [
       "1.83"
      ]
     },
     "execution_count": 390,
     "metadata": {},
     "output_type": "execute_result"
    }
   ],
   "source": [
    "# Si hubiesemos invertido un dolar\n",
    "dolar_invest = np.exp(data.d_returns.sum())\n",
    "dolar_invest = round(dolar_invest,2)\n",
    "dolar_invest"
   ]
  },
  {
   "cell_type": "code",
   "execution_count": 391,
   "metadata": {},
   "outputs": [
    {
     "name": "stderr",
     "output_type": "stream",
     "text": [
      "<ipython-input-391-4a70b1b2492e>:2: SettingWithCopyWarning: \n",
      "A value is trying to be set on a copy of a slice from a DataFrame.\n",
      "Try using .loc[row_indexer,col_indexer] = value instead\n",
      "\n",
      "See the caveats in the documentation: https://pandas.pydata.org/pandas-docs/stable/user_guide/indexing.html#returning-a-view-versus-a-copy\n",
      "  data[\"cummreturns\"] = data.d_returns.cumsum().apply(np.exp)\n"
     ]
    }
   ],
   "source": [
    "# Step by Step\n",
    "data[\"cummreturns\"] = data.d_returns.cumsum().apply(np.exp)"
   ]
  },
  {
   "cell_type": "code",
   "execution_count": 392,
   "metadata": {},
   "outputs": [
    {
     "data": {
      "text/html": [
       "<div>\n",
       "<style scoped>\n",
       "    .dataframe tbody tr th:only-of-type {\n",
       "        vertical-align: middle;\n",
       "    }\n",
       "\n",
       "    .dataframe tbody tr th {\n",
       "        vertical-align: top;\n",
       "    }\n",
       "\n",
       "    .dataframe thead th {\n",
       "        text-align: right;\n",
       "    }\n",
       "</style>\n",
       "<table border=\"1\" class=\"dataframe\">\n",
       "  <thead>\n",
       "    <tr style=\"text-align: right;\">\n",
       "      <th></th>\n",
       "      <th>Close</th>\n",
       "      <th>High</th>\n",
       "      <th>Low</th>\n",
       "      <th>Open</th>\n",
       "      <th>Volume</th>\n",
       "      <th>d_returns</th>\n",
       "      <th>cummreturns</th>\n",
       "    </tr>\n",
       "    <tr>\n",
       "      <th>Date</th>\n",
       "      <th></th>\n",
       "      <th></th>\n",
       "      <th></th>\n",
       "      <th></th>\n",
       "      <th></th>\n",
       "      <th></th>\n",
       "      <th></th>\n",
       "    </tr>\n",
       "  </thead>\n",
       "  <tbody>\n",
       "    <tr>\n",
       "      <th>2021-08-17</th>\n",
       "      <td>283.514465</td>\n",
       "      <td>283.853048</td>\n",
       "      <td>281.579741</td>\n",
       "      <td>282.847013</td>\n",
       "      <td>20075300</td>\n",
       "      <td>-0.005173</td>\n",
       "      <td>0.994840</td>\n",
       "    </tr>\n",
       "    <tr>\n",
       "      <th>2021-08-18</th>\n",
       "      <td>281.779694</td>\n",
       "      <td>285.743777</td>\n",
       "      <td>281.333834</td>\n",
       "      <td>283.049362</td>\n",
       "      <td>21813000</td>\n",
       "      <td>-0.006138</td>\n",
       "      <td>0.988753</td>\n",
       "    </tr>\n",
       "    <tr>\n",
       "      <th>2021-08-19</th>\n",
       "      <td>287.633698</td>\n",
       "      <td>288.312159</td>\n",
       "      <td>279.754011</td>\n",
       "      <td>279.802460</td>\n",
       "      <td>29850500</td>\n",
       "      <td>0.020562</td>\n",
       "      <td>1.009295</td>\n",
       "    </tr>\n",
       "    <tr>\n",
       "      <th>2021-08-20</th>\n",
       "      <td>294.990051</td>\n",
       "      <td>296.424499</td>\n",
       "      <td>288.884013</td>\n",
       "      <td>290.492912</td>\n",
       "      <td>40817600</td>\n",
       "      <td>0.025254</td>\n",
       "      <td>1.035108</td>\n",
       "    </tr>\n",
       "    <tr>\n",
       "      <th>2021-08-23</th>\n",
       "      <td>295.271088</td>\n",
       "      <td>295.997998</td>\n",
       "      <td>292.557300</td>\n",
       "      <td>293.914194</td>\n",
       "      <td>22830200</td>\n",
       "      <td>0.000952</td>\n",
       "      <td>1.036094</td>\n",
       "    </tr>\n",
       "  </tbody>\n",
       "</table>\n",
       "</div>"
      ],
      "text/plain": [
       "                 Close        High         Low        Open    Volume  \\\n",
       "Date                                                                   \n",
       "2021-08-17  283.514465  283.853048  281.579741  282.847013  20075300   \n",
       "2021-08-18  281.779694  285.743777  281.333834  283.049362  21813000   \n",
       "2021-08-19  287.633698  288.312159  279.754011  279.802460  29850500   \n",
       "2021-08-20  294.990051  296.424499  288.884013  290.492912  40817600   \n",
       "2021-08-23  295.271088  295.997998  292.557300  293.914194  22830200   \n",
       "\n",
       "            d_returns  cummreturns  \n",
       "Date                                \n",
       "2021-08-17  -0.005173     0.994840  \n",
       "2021-08-18  -0.006138     0.988753  \n",
       "2021-08-19   0.020562     1.009295  \n",
       "2021-08-20   0.025254     1.035108  \n",
       "2021-08-23   0.000952     1.036094  "
      ]
     },
     "execution_count": 392,
     "metadata": {},
     "output_type": "execute_result"
    }
   ],
   "source": [
    "data.head()"
   ]
  },
  {
   "cell_type": "code",
   "execution_count": 393,
   "metadata": {},
   "outputs": [],
   "source": [
    "# Fechas Sombreadas\n",
    "a = data[\"cummreturns\"].idxmax().date()\n",
    "b = a + timedelta(5)\n",
    "c = a - timedelta(5)"
   ]
  },
  {
   "cell_type": "markdown",
   "metadata": {},
   "source": [
    "## Grafica de Retornos Acumulados en el Tiempo"
   ]
  },
  {
   "cell_type": "code",
   "execution_count": 394,
   "metadata": {},
   "outputs": [
    {
     "data": {
      "image/png": "[encoded data removed]",
      "text/plain": [
       "<Figure size 864x576 with 1 Axes>"
      ]
     },
     "metadata": {
      "needs_background": "light"
     },
     "output_type": "display_data"
    }
   ],
   "source": [
    "# Chart\n",
    "data.cummreturns.plot(figsize=(12,8), title = f'{ticker} - Buy and Hold(Cumm Returns)', fontsize= 12 )\n",
    "# 3. Axis Labels\n",
    "plt.xlabel(\"Date\", fontsize=12)\n",
    "plt.ylabel(\"Cumulative Returns\", fontsize=12)\n",
    "plt.grid(True, linestyle='--', alpha=0.6)\n",
    "#plt.legend(fontsize=10)\n",
    "# Linea Horizontal de referencia\n",
    "plt.axhline(1.0, color='gray', linestyle=':', linewidth=1.5, label='Break-even (1.0x)')\n",
    "# Sombra para resaltar periodo de la grafica\n",
    "plt.axvspan(c, b, color='blue', alpha=0.1, label='Recovery Period')\n",
    "\n",
    "# Guarda la figura\n",
    "nombre_imagen1 = f'{ticker} - Buy and Hold(Cumm Returns) Plot.png'\n",
    "\n",
    "plt.savefig(\n",
    "    nombre_imagen1,\n",
    "    dpi=300,        # Resolución en puntos por pulgada (dots per inch). Mayor DPI = mayor calidad.\n",
    "    bbox_inches='tight', # Elimina el espacio en blanco extra alrededor del gráfico\n",
    "    facecolor='white',   # Fondo blanco para el gráfico guardado (útil si tu tema es oscuro)\n",
    "    transparent=False    # Si es True, el fondo será transparente (para PNG).\n",
    ")\n",
    "\n",
    "plt.show()"
   ]
  },
  {
   "cell_type": "code",
   "execution_count": 395,
   "metadata": {},
   "outputs": [
    {
     "data": {
      "text/plain": [
       "0.1526903054385847"
      ]
     },
     "execution_count": 395,
     "metadata": {},
     "output_type": "execute_result"
    }
   ],
   "source": [
    "#Calculate Average Annual Return\n",
    "data.d_returns.mean()*252"
   ]
  },
  {
   "cell_type": "code",
   "execution_count": 396,
   "metadata": {},
   "outputs": [
    {
     "data": {
      "text/plain": [
       "0.2703408836368986"
      ]
     },
     "execution_count": 396,
     "metadata": {},
     "output_type": "execute_result"
    }
   ],
   "source": [
    "#Calculate Annual Standard Desviation\n",
    "data.d_returns.std()*np.sqrt(252)"
   ]
  },
  {
   "cell_type": "markdown",
   "metadata": {},
   "source": [
    "## Cálculo de Retornos Acumulados Máximos "
   ]
  },
  {
   "cell_type": "code",
   "execution_count": 397,
   "metadata": {},
   "outputs": [
    {
     "name": "stderr",
     "output_type": "stream",
     "text": [
      "<ipython-input-397-ca8574eea159>:2: SettingWithCopyWarning: \n",
      "A value is trying to be set on a copy of a slice from a DataFrame.\n",
      "Try using .loc[row_indexer,col_indexer] = value instead\n",
      "\n",
      "See the caveats in the documentation: https://pandas.pydata.org/pandas-docs/stable/user_guide/indexing.html#returning-a-view-versus-a-copy\n",
      "  data[\"cummmax\"] = data.cummreturns.cummax()\n"
     ]
    }
   ],
   "source": [
    "# Calculo de Cumm Max\n",
    "data[\"cummmax\"] = data.cummreturns.cummax()"
   ]
  },
  {
   "cell_type": "code",
   "execution_count": 398,
   "metadata": {},
   "outputs": [
    {
     "data": {
      "text/plain": [
       "1.8795382713392146"
      ]
     },
     "execution_count": 398,
     "metadata": {},
     "output_type": "execute_result"
    }
   ],
   "source": [
    "# Cálculo Cumm Max\n",
    "data.cummmax.max()"
   ]
  },
  {
   "cell_type": "code",
   "execution_count": 399,
   "metadata": {},
   "outputs": [
    {
     "data": {
      "text/plain": [
       "Timestamp('2025-08-04 00:00:00')"
      ]
     },
     "execution_count": 399,
     "metadata": {},
     "output_type": "execute_result"
    }
   ],
   "source": [
    "# Identificar Drawdown Max\n",
    "data.cummmax.idxmax()"
   ]
  },
  {
   "cell_type": "markdown",
   "metadata": {},
   "source": [
    "## Gráfica de Retornos Acumulados y Acumulados Máximos"
   ]
  },
  {
   "cell_type": "code",
   "execution_count": 400,
   "metadata": {},
   "outputs": [
    {
     "data": {
      "image/png": "[encoded data removed]",
      "text/plain": [
       "<Figure size 864x576 with 1 Axes>"
      ]
     },
     "metadata": {
      "needs_background": "light"
     },
     "output_type": "display_data"
    }
   ],
   "source": [
    "# Chart\n",
    "data[[\"cummreturns\",\"cummmax\"]].plot(figsize=(12,8), title = f'{ticker} - Buy and Hold(Cumm Returns) + Cumm Max', fontsize= 12 )\n",
    "\n",
    "# 3. Add details\n",
    "plt.xlabel(\"Date\", fontsize=12)\n",
    "plt.ylabel(\"Cumulative Returns\", fontsize=12)\n",
    "plt.grid(True, linestyle='--', alpha=0.6)\n",
    "plt.legend(fontsize=10)\n",
    "# Linea Horizontal de referencia\n",
    "plt.axhline(1.0, color='gray', linestyle=':', linewidth=1.5, label='Break-even (1.0x)')\n",
    "# Sombra para resaltar peiodo de la grafica\n",
    "plt.axvspan(c, b, color='blue', alpha=0.1, label='Recovery Period')\n",
    "\n",
    "# Guarda la figura\n",
    "nombre_imagen2 = f'{ticker} - Buy and Hold(Cumm Returns) + Cumm Max_Plot.png'\n",
    "\n",
    "plt.savefig(\n",
    "    nombre_imagen2,\n",
    "    dpi=300,        # Resolución en puntos por pulgada (dots per inch). Mayor DPI = mayor calidad.\n",
    "    bbox_inches='tight', # Elimina el espacio en blanco extra alrededor del gráfico\n",
    "    facecolor='white',   # Fondo blanco para el gráfico guardado (útil si tu tema es oscuro)\n",
    "    transparent=False    # Si es True, el fondo será transparente (para PNG).\n",
    ")\n",
    "\n",
    "# Visualizar en Notebook\n",
    "\n",
    "plt.show()"
   ]
  },
  {
   "cell_type": "markdown",
   "metadata": {},
   "source": [
    "## Cálculo de Drawdown"
   ]
  },
  {
   "cell_type": "code",
   "execution_count": 401,
   "metadata": {},
   "outputs": [
    {
     "name": "stderr",
     "output_type": "stream",
     "text": [
      "<ipython-input-401-50b1a8a5d803>:2: SettingWithCopyWarning: \n",
      "A value is trying to be set on a copy of a slice from a DataFrame.\n",
      "Try using .loc[row_indexer,col_indexer] = value instead\n",
      "\n",
      "See the caveats in the documentation: https://pandas.pydata.org/pandas-docs/stable/user_guide/indexing.html#returning-a-view-versus-a-copy\n",
      "  data[\"drawdown\"] = data[\"cummmax\"]-data[\"cummreturns\"]\n"
     ]
    }
   ],
   "source": [
    "# Calculo de Drawdown\n",
    "data[\"drawdown\"] = data[\"cummmax\"]-data[\"cummreturns\"]"
   ]
  },
  {
   "cell_type": "code",
   "execution_count": 402,
   "metadata": {},
   "outputs": [
    {
     "data": {
      "text/plain": [
       "0.434276322940208"
      ]
     },
     "execution_count": 402,
     "metadata": {},
     "output_type": "execute_result"
    }
   ],
   "source": [
    "# Cálculo de Drawdown Max\n",
    "data.drawdown.max()"
   ]
  },
  {
   "cell_type": "code",
   "execution_count": 403,
   "metadata": {},
   "outputs": [
    {
     "data": {
      "text/plain": [
       "Timestamp('2022-11-03 00:00:00')"
      ]
     },
     "execution_count": 403,
     "metadata": {},
     "output_type": "execute_result"
    }
   ],
   "source": [
    "# Identificar Drawdown Max\n",
    "data.drawdown.idxmax()"
   ]
  },
  {
   "cell_type": "code",
   "execution_count": 404,
   "metadata": {},
   "outputs": [
    {
     "data": {
      "text/plain": [
       "datetime.date(2022, 11, 3)"
      ]
     },
     "execution_count": 404,
     "metadata": {},
     "output_type": "execute_result"
    }
   ],
   "source": [
    "data.drawdown.idxmax().date()"
   ]
  },
  {
   "cell_type": "code",
   "execution_count": 405,
   "metadata": {},
   "outputs": [
    {
     "data": {
      "text/html": [
       "<div>\n",
       "<style scoped>\n",
       "    .dataframe tbody tr th:only-of-type {\n",
       "        vertical-align: middle;\n",
       "    }\n",
       "\n",
       "    .dataframe tbody tr th {\n",
       "        vertical-align: top;\n",
       "    }\n",
       "\n",
       "    .dataframe thead th {\n",
       "        text-align: right;\n",
       "    }\n",
       "</style>\n",
       "<table border=\"1\" class=\"dataframe\">\n",
       "  <thead>\n",
       "    <tr style=\"text-align: right;\">\n",
       "      <th></th>\n",
       "      <th>Close</th>\n",
       "      <th>High</th>\n",
       "      <th>Low</th>\n",
       "      <th>Open</th>\n",
       "      <th>Volume</th>\n",
       "      <th>d_returns</th>\n",
       "      <th>cummreturns</th>\n",
       "      <th>cummmax</th>\n",
       "      <th>drawdown</th>\n",
       "    </tr>\n",
       "    <tr>\n",
       "      <th>Date</th>\n",
       "      <th></th>\n",
       "      <th></th>\n",
       "      <th></th>\n",
       "      <th></th>\n",
       "      <th></th>\n",
       "      <th></th>\n",
       "      <th></th>\n",
       "      <th></th>\n",
       "      <th></th>\n",
       "    </tr>\n",
       "  </thead>\n",
       "  <tbody>\n",
       "    <tr>\n",
       "      <th>2023-01-03</th>\n",
       "      <td>234.808929</td>\n",
       "      <td>240.856056</td>\n",
       "      <td>232.672335</td>\n",
       "      <td>238.239229</td>\n",
       "      <td>25740000</td>\n",
       "      <td>-0.001001</td>\n",
       "      <td>0.823935</td>\n",
       "      <td>1.169029</td>\n",
       "      <td>0.345094</td>\n",
       "    </tr>\n",
       "  </tbody>\n",
       "</table>\n",
       "</div>"
      ],
      "text/plain": [
       "                 Close        High         Low        Open    Volume  \\\n",
       "Date                                                                   \n",
       "2023-01-03  234.808929  240.856056  232.672335  238.239229  25740000   \n",
       "\n",
       "            d_returns  cummreturns   cummmax  drawdown  \n",
       "Date                                                    \n",
       "2023-01-03  -0.001001     0.823935  1.169029  0.345094  "
      ]
     },
     "execution_count": 405,
     "metadata": {},
     "output_type": "execute_result"
    }
   ],
   "source": [
    "data.loc[(data.index==\"2023-01-03\")]"
   ]
  },
  {
   "cell_type": "markdown",
   "metadata": {},
   "source": [
    "## Cálculo Drawdown %"
   ]
  },
  {
   "cell_type": "code",
   "execution_count": 406,
   "metadata": {},
   "outputs": [
    {
     "name": "stderr",
     "output_type": "stream",
     "text": [
      "<ipython-input-406-7abf1966b25c>:1: SettingWithCopyWarning: \n",
      "A value is trying to be set on a copy of a slice from a DataFrame.\n",
      "Try using .loc[row_indexer,col_indexer] = value instead\n",
      "\n",
      "See the caveats in the documentation: https://pandas.pydata.org/pandas-docs/stable/user_guide/indexing.html#returning-a-view-versus-a-copy\n",
      "  data[\"drawdown_pct\"] = (data[\"cummmax\"]-data[\"cummreturns\"])/data[\"cummmax\"]\n"
     ]
    }
   ],
   "source": [
    "data[\"drawdown_pct\"] = (data[\"cummmax\"]-data[\"cummreturns\"])/data[\"cummmax\"]"
   ]
  },
  {
   "cell_type": "code",
   "execution_count": 407,
   "metadata": {},
   "outputs": [],
   "source": [
    "# Cálculo del Drawdown Max %\n",
    "drawdown_max_pct = data[\"drawdown_pct\"].max()\n",
    "drawdown_max_pct = round(drawdown_max_pct,2)\n",
    "drawdown_max_pct\n",
    "\n",
    "drawdown_max_pctx100 = round(drawdown_max_pct * 100,2)"
   ]
  },
  {
   "cell_type": "code",
   "execution_count": 408,
   "metadata": {},
   "outputs": [
    {
     "data": {
      "text/plain": [
       "Timestamp('2022-11-03 00:00:00')"
      ]
     },
     "execution_count": 408,
     "metadata": {},
     "output_type": "execute_result"
    }
   ],
   "source": [
    "# Identificar fecha con Drawdown % Max\n",
    "data[\"drawdown_pct\"].idxmax()"
   ]
  },
  {
   "cell_type": "code",
   "execution_count": 409,
   "metadata": {},
   "outputs": [],
   "source": [
    "a = data[\"drawdown_pct\"].idxmax().date()\n",
    "b = a + timedelta(5)\n",
    "c = a - timedelta(5)"
   ]
  },
  {
   "cell_type": "code",
   "execution_count": 410,
   "metadata": {},
   "outputs": [],
   "source": [
    "date_= a.strftime('%Y-%m-%d')"
   ]
  },
  {
   "cell_type": "code",
   "execution_count": 411,
   "metadata": {},
   "outputs": [
    {
     "data": {
      "text/html": [
       "<div>\n",
       "<style scoped>\n",
       "    .dataframe tbody tr th:only-of-type {\n",
       "        vertical-align: middle;\n",
       "    }\n",
       "\n",
       "    .dataframe tbody tr th {\n",
       "        vertical-align: top;\n",
       "    }\n",
       "\n",
       "    .dataframe thead th {\n",
       "        text-align: right;\n",
       "    }\n",
       "</style>\n",
       "<table border=\"1\" class=\"dataframe\">\n",
       "  <thead>\n",
       "    <tr style=\"text-align: right;\">\n",
       "      <th></th>\n",
       "      <th>Close</th>\n",
       "      <th>High</th>\n",
       "      <th>Low</th>\n",
       "      <th>Open</th>\n",
       "      <th>Volume</th>\n",
       "      <th>d_returns</th>\n",
       "      <th>cummreturns</th>\n",
       "      <th>cummmax</th>\n",
       "      <th>drawdown</th>\n",
       "      <th>drawdown_pct</th>\n",
       "    </tr>\n",
       "    <tr>\n",
       "      <th>Date</th>\n",
       "      <th></th>\n",
       "      <th></th>\n",
       "      <th></th>\n",
       "      <th></th>\n",
       "      <th></th>\n",
       "      <th></th>\n",
       "      <th></th>\n",
       "      <th></th>\n",
       "      <th></th>\n",
       "      <th></th>\n",
       "    </tr>\n",
       "  </thead>\n",
       "  <tbody>\n",
       "    <tr>\n",
       "      <th>2021-08-17</th>\n",
       "      <td>283.514465</td>\n",
       "      <td>283.853048</td>\n",
       "      <td>281.579741</td>\n",
       "      <td>282.847013</td>\n",
       "      <td>20075300</td>\n",
       "      <td>-0.005173</td>\n",
       "      <td>0.994840</td>\n",
       "      <td>0.994840</td>\n",
       "      <td>0.000000</td>\n",
       "      <td>0.000000</td>\n",
       "    </tr>\n",
       "    <tr>\n",
       "      <th>2021-08-18</th>\n",
       "      <td>281.779694</td>\n",
       "      <td>285.743777</td>\n",
       "      <td>281.333834</td>\n",
       "      <td>283.049362</td>\n",
       "      <td>21813000</td>\n",
       "      <td>-0.006138</td>\n",
       "      <td>0.988753</td>\n",
       "      <td>0.994840</td>\n",
       "      <td>0.006087</td>\n",
       "      <td>0.006119</td>\n",
       "    </tr>\n",
       "    <tr>\n",
       "      <th>2021-08-19</th>\n",
       "      <td>287.633698</td>\n",
       "      <td>288.312159</td>\n",
       "      <td>279.754011</td>\n",
       "      <td>279.802460</td>\n",
       "      <td>29850500</td>\n",
       "      <td>0.020562</td>\n",
       "      <td>1.009295</td>\n",
       "      <td>1.009295</td>\n",
       "      <td>0.000000</td>\n",
       "      <td>0.000000</td>\n",
       "    </tr>\n",
       "    <tr>\n",
       "      <th>2021-08-20</th>\n",
       "      <td>294.990051</td>\n",
       "      <td>296.424499</td>\n",
       "      <td>288.884013</td>\n",
       "      <td>290.492912</td>\n",
       "      <td>40817600</td>\n",
       "      <td>0.025254</td>\n",
       "      <td>1.035108</td>\n",
       "      <td>1.035108</td>\n",
       "      <td>0.000000</td>\n",
       "      <td>0.000000</td>\n",
       "    </tr>\n",
       "    <tr>\n",
       "      <th>2021-08-23</th>\n",
       "      <td>295.271088</td>\n",
       "      <td>295.997998</td>\n",
       "      <td>292.557300</td>\n",
       "      <td>293.914194</td>\n",
       "      <td>22830200</td>\n",
       "      <td>0.000952</td>\n",
       "      <td>1.036094</td>\n",
       "      <td>1.036094</td>\n",
       "      <td>0.000000</td>\n",
       "      <td>0.000000</td>\n",
       "    </tr>\n",
       "    <tr>\n",
       "      <th>...</th>\n",
       "      <td>...</td>\n",
       "      <td>...</td>\n",
       "      <td>...</td>\n",
       "      <td>...</td>\n",
       "      <td>...</td>\n",
       "      <td>...</td>\n",
       "      <td>...</td>\n",
       "      <td>...</td>\n",
       "      <td>...</td>\n",
       "      <td>...</td>\n",
       "    </tr>\n",
       "    <tr>\n",
       "      <th>2022-10-28</th>\n",
       "      <td>230.523193</td>\n",
       "      <td>231.236656</td>\n",
       "      <td>220.925805</td>\n",
       "      <td>221.111500</td>\n",
       "      <td>40647700</td>\n",
       "      <td>0.039433</td>\n",
       "      <td>0.808896</td>\n",
       "      <td>1.169029</td>\n",
       "      <td>0.360132</td>\n",
       "      <td>0.308061</td>\n",
       "    </tr>\n",
       "    <tr>\n",
       "      <th>2022-10-31</th>\n",
       "      <td>226.867950</td>\n",
       "      <td>229.594699</td>\n",
       "      <td>225.910155</td>\n",
       "      <td>228.460991</td>\n",
       "      <td>28357300</td>\n",
       "      <td>-0.015983</td>\n",
       "      <td>0.796070</td>\n",
       "      <td>1.169029</td>\n",
       "      <td>0.372958</td>\n",
       "      <td>0.319033</td>\n",
       "    </tr>\n",
       "    <tr>\n",
       "      <th>2022-11-01</th>\n",
       "      <td>222.997711</td>\n",
       "      <td>230.396117</td>\n",
       "      <td>222.176756</td>\n",
       "      <td>229.281960</td>\n",
       "      <td>30592300</td>\n",
       "      <td>-0.017207</td>\n",
       "      <td>0.782490</td>\n",
       "      <td>1.169029</td>\n",
       "      <td>0.386539</td>\n",
       "      <td>0.330650</td>\n",
       "    </tr>\n",
       "    <tr>\n",
       "      <th>2022-11-02</th>\n",
       "      <td>215.110672</td>\n",
       "      <td>226.056782</td>\n",
       "      <td>215.052020</td>\n",
       "      <td>224.258496</td>\n",
       "      <td>38407000</td>\n",
       "      <td>-0.036009</td>\n",
       "      <td>0.754814</td>\n",
       "      <td>1.169029</td>\n",
       "      <td>0.414214</td>\n",
       "      <td>0.354323</td>\n",
       "    </tr>\n",
       "    <tr>\n",
       "      <th>2022-11-03</th>\n",
       "      <td>209.393295</td>\n",
       "      <td>215.413662</td>\n",
       "      <td>209.129412</td>\n",
       "      <td>215.100908</td>\n",
       "      <td>36633900</td>\n",
       "      <td>-0.026938</td>\n",
       "      <td>0.734752</td>\n",
       "      <td>1.169029</td>\n",
       "      <td>0.434276</td>\n",
       "      <td>0.371485</td>\n",
       "    </tr>\n",
       "  </tbody>\n",
       "</table>\n",
       "<p>308 rows × 10 columns</p>\n",
       "</div>"
      ],
      "text/plain": [
       "                 Close        High         Low        Open    Volume  \\\n",
       "Date                                                                   \n",
       "2021-08-17  283.514465  283.853048  281.579741  282.847013  20075300   \n",
       "2021-08-18  281.779694  285.743777  281.333834  283.049362  21813000   \n",
       "2021-08-19  287.633698  288.312159  279.754011  279.802460  29850500   \n",
       "2021-08-20  294.990051  296.424499  288.884013  290.492912  40817600   \n",
       "2021-08-23  295.271088  295.997998  292.557300  293.914194  22830200   \n",
       "...                ...         ...         ...         ...       ...   \n",
       "2022-10-28  230.523193  231.236656  220.925805  221.111500  40647700   \n",
       "2022-10-31  226.867950  229.594699  225.910155  228.460991  28357300   \n",
       "2022-11-01  222.997711  230.396117  222.176756  229.281960  30592300   \n",
       "2022-11-02  215.110672  226.056782  215.052020  224.258496  38407000   \n",
       "2022-11-03  209.393295  215.413662  209.129412  215.100908  36633900   \n",
       "\n",
       "            d_returns  cummreturns   cummmax  drawdown  drawdown_pct  \n",
       "Date                                                                  \n",
       "2021-08-17  -0.005173     0.994840  0.994840  0.000000      0.000000  \n",
       "2021-08-18  -0.006138     0.988753  0.994840  0.006087      0.006119  \n",
       "2021-08-19   0.020562     1.009295  1.009295  0.000000      0.000000  \n",
       "2021-08-20   0.025254     1.035108  1.035108  0.000000      0.000000  \n",
       "2021-08-23   0.000952     1.036094  1.036094  0.000000      0.000000  \n",
       "...               ...          ...       ...       ...           ...  \n",
       "2022-10-28   0.039433     0.808896  1.169029  0.360132      0.308061  \n",
       "2022-10-31  -0.015983     0.796070  1.169029  0.372958      0.319033  \n",
       "2022-11-01  -0.017207     0.782490  1.169029  0.386539      0.330650  \n",
       "2022-11-02  -0.036009     0.754814  1.169029  0.414214      0.354323  \n",
       "2022-11-03  -0.026938     0.734752  1.169029  0.434276      0.371485  \n",
       "\n",
       "[308 rows x 10 columns]"
      ]
     },
     "execution_count": 411,
     "metadata": {},
     "output_type": "execute_result"
    }
   ],
   "source": [
    "data.loc[(data.index<=date_)]"
   ]
  },
  {
   "cell_type": "markdown",
   "metadata": {},
   "source": [
    "## Gráfica de Drawdown %"
   ]
  },
  {
   "cell_type": "code",
   "execution_count": 412,
   "metadata": {},
   "outputs": [
    {
     "data": {
      "image/png": "[encoded data removed]",
      "text/plain": [
       "<Figure size 864x576 with 1 Axes>"
      ]
     },
     "metadata": {
      "needs_background": "light"
     },
     "output_type": "display_data"
    }
   ],
   "source": [
    "# Chart\n",
    "data.drawdown_pct.plot(figsize=(12,8), title = f'{ticker} - % Drawdown', fontsize= 12, color=\"red\" )\n",
    "\n",
    "# 3. Add details\n",
    "plt.xlabel(\"Date\", fontsize=12)\n",
    "plt.ylabel(\"% Drawdown \", fontsize=12)\n",
    "plt.grid(True, linestyle='--', alpha=0.6)\n",
    "plt.legend(fontsize=10)\n",
    "# Linea Horizontal de referencia\n",
    "#plt.axhline(1.0, color='gray', linestyle=':', linewidth=1.5, label='Break-even (1.0x)')\n",
    "# Sombra para resaltar peiodo de la grafica\n",
    "plt.axvspan(c, b, color='red', alpha=0.1, label='Recovery Period')\n",
    "\n",
    "\n",
    "\n",
    "#output_folder = \"C:\\Users\\ASUS\\Desktop\\Proyectos_Desarrollo\\06_Trading\\02. TSLA\" # Reemplaza con el nombre de tu carpeta\n",
    "#image_filename = f\"{ticker}-Drawdown %_Plot.png\" # Nombre dinámico\n",
    "#full_path = os.path.join(output_folder, image_filename)\n",
    "\n",
    "# Guarda la figura\n",
    "nombre_imagen3 = f'{ticker} - % Drawdown.png'\n",
    "\n",
    "plt.savefig(\n",
    "    nombre_imagen3,\n",
    "    dpi=300,        # Resolución en puntos por pulgada (dots per inch). Mayor DPI = mayor calidad.\n",
    "    bbox_inches='tight', # Elimina el espacio en blanco extra alrededor del gráfico\n",
    "    facecolor='white',   # Fondo blanco para el gráfico guardado (útil si tu tema es oscuro)\n",
    "    transparent=False    # Si es True, el fondo será transparente (para PNG).\n",
    ")\n",
    "\n",
    "# Visualizar Grafico en Notebook\n",
    "plt.show()"
   ]
  },
  {
   "cell_type": "code",
   "execution_count": 413,
   "metadata": {},
   "outputs": [],
   "source": [
    "# Save the data to CSV file\n",
    "data.to_csv(\"cummreturns.csv\")"
   ]
  },
  {
   "cell_type": "markdown",
   "metadata": {},
   "source": [
    "## Calculo de Dias de Drawdown"
   ]
  },
  {
   "cell_type": "code",
   "execution_count": 414,
   "metadata": {},
   "outputs": [
    {
     "data": {
      "text/plain": [
       "cummmax\n",
       "1.169029    393\n",
       "1.628165    230\n",
       "1.242121     79\n",
       "1.492486     42\n",
       "1.327806     29\n",
       "           ... \n",
       "1.537696      1\n",
       "1.541144      1\n",
       "1.248352      1\n",
       "1.347825      1\n",
       "1.570325      1\n",
       "Name: count, Length: 81, dtype: int64"
      ]
     },
     "execution_count": 414,
     "metadata": {},
     "output_type": "execute_result"
    }
   ],
   "source": [
    "#\n",
    "frecuencias = data['cummmax'].value_counts()\n",
    "frecuencias"
   ]
  },
  {
   "cell_type": "code",
   "execution_count": 415,
   "metadata": {},
   "outputs": [
    {
     "data": {
      "text/plain": [
       "393"
      ]
     },
     "execution_count": 415,
     "metadata": {},
     "output_type": "execute_result"
    }
   ],
   "source": [
    "dias_drawdown = frecuencias.iloc[0]\n",
    "dias_drawdown"
   ]
  },
  {
   "cell_type": "markdown",
   "metadata": {},
   "source": [
    "# Construcción Reporte"
   ]
  },
  {
   "cell_type": "code",
   "execution_count": 416,
   "metadata": {},
   "outputs": [],
   "source": [
    "# Modificar formatos de fecha para reporte\n",
    "# Start Date\n",
    "start_dt = datetime.strptime(start, \"%Y-%m-%d\")                           \n",
    "start = start_dt.strftime(\"%m-%d-%Y\")\n",
    "\n",
    "# End Date\n",
    "end_dt = datetime.strptime(end, \"%Y-%m-%d\")  \n",
    "end = end_dt.strftime(\"%m-%d-%Y\")\n",
    "\n",
    "#  Today Date\n",
    "todaty_format_dt = datetime.strptime(today_format, \"%Y-%m-%d\")  \n",
    "today_format = todaty_format_dt.strftime(\"%m-%d-%Y\")"
   ]
  },
  {
   "cell_type": "code",
   "execution_count": 417,
   "metadata": {},
   "outputs": [],
   "source": [
    "# Importar libreía Pdf\n",
    "from fpdf import FPDF"
   ]
  },
  {
   "cell_type": "code",
   "execution_count": 418,
   "metadata": {},
   "outputs": [
    {
     "name": "stderr",
     "output_type": "stream",
     "text": [
      "<ipython-input-418-bdaf86fc17fb>:12: DeprecationWarning: The parameter \"txt\" has been renamed to \"text\" in 2.7.6\n",
      "  pdf.cell(200, 10, txt=f'{ticker} - Financial Analysis Report.', ln=True, align=\"L\")\n",
      "<ipython-input-418-bdaf86fc17fb>:12: DeprecationWarning: The parameter \"ln\" is deprecated since v2.5.2. Instead of ln=True use new_x=XPos.LMARGIN, new_y=YPos.NEXT.\n",
      "  pdf.cell(200, 10, txt=f'{ticker} - Financial Analysis Report.', ln=True, align=\"L\")\n",
      "<ipython-input-418-bdaf86fc17fb>:17: DeprecationWarning: The parameter \"txt\" has been renamed to \"text\" in 2.7.6\n",
      "  pdf.cell(200, 10, txt=f'Cumm Returns & Drawdown Analysis for {longName}', ln=True)\n",
      "<ipython-input-418-bdaf86fc17fb>:17: DeprecationWarning: The parameter \"ln\" is deprecated since v2.5.2. Instead of ln=True use new_x=XPos.LMARGIN, new_y=YPos.NEXT.\n",
      "  pdf.cell(200, 10, txt=f'Cumm Returns & Drawdown Analysis for {longName}', ln=True)\n",
      "<ipython-input-418-bdaf86fc17fb>:19: DeprecationWarning: The parameter \"txt\" has been renamed to \"text\" in 2.7.6\n",
      "  pdf.cell(200, 10, txt=f'Date Period: From {start} to {end}.', ln=True)\n",
      "<ipython-input-418-bdaf86fc17fb>:19: DeprecationWarning: The parameter \"ln\" is deprecated since v2.5.2. Instead of ln=True use new_x=XPos.LMARGIN, new_y=YPos.NEXT.\n",
      "  pdf.cell(200, 10, txt=f'Date Period: From {start} to {end}.', ln=True)\n",
      "<ipython-input-418-bdaf86fc17fb>:20: DeprecationWarning: The parameter \"txt\" has been renamed to \"text\" in 2.7.6\n",
      "  pdf.cell(200, 10, txt=f'Industry: {industry}.', ln=True)\n",
      "<ipython-input-418-bdaf86fc17fb>:20: DeprecationWarning: The parameter \"ln\" is deprecated since v2.5.2. Instead of ln=True use new_x=XPos.LMARGIN, new_y=YPos.NEXT.\n",
      "  pdf.cell(200, 10, txt=f'Industry: {industry}.', ln=True)\n",
      "<ipython-input-418-bdaf86fc17fb>:21: DeprecationWarning: The parameter \"txt\" has been renamed to \"text\" in 2.7.6\n",
      "  pdf.cell(200, 10, txt=f'MarketCap: {marketCap} Bn.', ln=True)\n",
      "<ipython-input-418-bdaf86fc17fb>:21: DeprecationWarning: The parameter \"ln\" is deprecated since v2.5.2. Instead of ln=True use new_x=XPos.LMARGIN, new_y=YPos.NEXT.\n",
      "  pdf.cell(200, 10, txt=f'MarketCap: {marketCap} Bn.', ln=True)\n",
      "<ipython-input-418-bdaf86fc17fb>:22: DeprecationWarning: The parameter \"txt\" has been renamed to \"text\" in 2.7.6\n",
      "  pdf.cell(200, 10, txt=\"Executive Summary:\", ln=True)\n",
      "<ipython-input-418-bdaf86fc17fb>:22: DeprecationWarning: The parameter \"ln\" is deprecated since v2.5.2. Instead of ln=True use new_x=XPos.LMARGIN, new_y=YPos.NEXT.\n",
      "  pdf.cell(200, 10, txt=\"Executive Summary:\", ln=True)\n",
      "<ipython-input-418-bdaf86fc17fb>:30: DeprecationWarning: The parameter \"txt\" has been renamed to \"text\" in 2.7.6\n",
      "  pdf.multi_cell(w=0, h=5, txt=parrafo, border=0, align=\"J\")\n",
      "<ipython-input-418-bdaf86fc17fb>:34: DeprecationWarning: The parameter \"txt\" has been renamed to \"text\" in 2.7.6\n",
      "  pdf.cell(200, 10, txt='Tools: Python Libraries: Pandas, Matplotlib, Seaborn, FPDF, Yfinance, Datetime.', ln=True)\n",
      "<ipython-input-418-bdaf86fc17fb>:34: DeprecationWarning: The parameter \"ln\" is deprecated since v2.5.2. Instead of ln=True use new_x=XPos.LMARGIN, new_y=YPos.NEXT.\n",
      "  pdf.cell(200, 10, txt='Tools: Python Libraries: Pandas, Matplotlib, Seaborn, FPDF, Yfinance, Datetime.', ln=True)\n",
      "<ipython-input-418-bdaf86fc17fb>:37: DeprecationWarning: The parameter \"ln\" is deprecated since v2.5.2. Instead of ln=True use new_x=XPos.LMARGIN, new_y=YPos.NEXT.\n",
      "  pdf.cell(200,10, text=f'Report Date: {today_format}.', ln=True)\n",
      "<ipython-input-418-bdaf86fc17fb>:41: DeprecationWarning: Substituting font arial by core font helvetica - This is deprecated since v2.7.8, and will soon be removed\n",
      "  pdf.set_font(\"Arial\", 'B', 16)\n",
      "<ipython-input-418-bdaf86fc17fb>:42: DeprecationWarning: The parameter \"txt\" has been renamed to \"text\" in 2.7.6\n",
      "  pdf.cell(200, 10, txt=\"Accumulated Return & Drawdown Analysis\", ln=True, align=\"L\")\n",
      "<ipython-input-418-bdaf86fc17fb>:42: DeprecationWarning: The parameter \"ln\" is deprecated since v2.5.2. Instead of ln=True use new_x=XPos.LMARGIN, new_y=YPos.NEXT.\n",
      "  pdf.cell(200, 10, txt=\"Accumulated Return & Drawdown Analysis\", ln=True, align=\"L\")\n",
      "<ipython-input-418-bdaf86fc17fb>:45: DeprecationWarning: Substituting font arial by core font helvetica - This is deprecated since v2.7.8, and will soon be removed\n",
      "  pdf.set_font(\"Arial\", 'B', 12)\n",
      "<ipython-input-418-bdaf86fc17fb>:46: DeprecationWarning: The parameter \"txt\" has been renamed to \"text\" in 2.7.6\n",
      "  pdf.cell(200, 10, txt=\"Accumulated Return - Interpretation\", ln=True, align=\"L\")\n",
      "<ipython-input-418-bdaf86fc17fb>:46: DeprecationWarning: The parameter \"ln\" is deprecated since v2.5.2. Instead of ln=True use new_x=XPos.LMARGIN, new_y=YPos.NEXT.\n",
      "  pdf.cell(200, 10, txt=\"Accumulated Return - Interpretation\", ln=True, align=\"L\")\n",
      "<ipython-input-418-bdaf86fc17fb>:56: DeprecationWarning: The parameter \"txt\" has been renamed to \"text\" in 2.7.6\n",
      "  pdf.multi_cell(w=0, h=5, txt=parrafo, border=0, align=\"J\")\n",
      "<ipython-input-418-bdaf86fc17fb>:60: DeprecationWarning: The parameter \"txt\" has been renamed to \"text\" in 2.7.6\n",
      "  pdf.multi_cell(w=0, h=5, txt=parrafo, border=0, align=\"J\")\n",
      "<ipython-input-418-bdaf86fc17fb>:63: DeprecationWarning: The parameter \"txt\" has been renamed to \"text\" in 2.7.6\n",
      "  pdf.cell(200, 10, txt=f'Accumulated Return(1$) = {dolar_invest}', ln=True, align=\"L\")\n",
      "<ipython-input-418-bdaf86fc17fb>:63: DeprecationWarning: The parameter \"ln\" is deprecated since v2.5.2. Instead of ln=True use new_x=XPos.LMARGIN, new_y=YPos.NEXT.\n",
      "  pdf.cell(200, 10, txt=f'Accumulated Return(1$) = {dolar_invest}', ln=True, align=\"L\")\n",
      "<ipython-input-418-bdaf86fc17fb>:67: DeprecationWarning: Substituting font arial by core font helvetica - This is deprecated since v2.7.8, and will soon be removed\n",
      "  pdf.set_font(\"Arial\", 'B', 12)\n",
      "<ipython-input-418-bdaf86fc17fb>:68: DeprecationWarning: The parameter \"txt\" has been renamed to \"text\" in 2.7.6\n",
      "  pdf.cell(200, 10, txt=\"Drawdown - Interpretation\", ln=True, align=\"L\")\n",
      "<ipython-input-418-bdaf86fc17fb>:68: DeprecationWarning: The parameter \"ln\" is deprecated since v2.5.2. Instead of ln=True use new_x=XPos.LMARGIN, new_y=YPos.NEXT.\n",
      "  pdf.cell(200, 10, txt=\"Drawdown - Interpretation\", ln=True, align=\"L\")\n",
      "<ipython-input-418-bdaf86fc17fb>:78: DeprecationWarning: The parameter \"txt\" has been renamed to \"text\" in 2.7.6\n",
      "  pdf.multi_cell(w=0, h=5, txt=parrafo, border=0, align=\"J\")\n",
      "<ipython-input-418-bdaf86fc17fb>:81: DeprecationWarning: Substituting font arial by core font helvetica - This is deprecated since v2.7.8, and will soon be removed\n",
      "  pdf.set_font(\"Arial\", 'B', 10)\n",
      "<ipython-input-418-bdaf86fc17fb>:82: DeprecationWarning: The parameter \"txt\" has been renamed to \"text\" in 2.7.6\n",
      "  pdf.cell(200, 10, txt=\"Drawdown - Key Points\", ln=True, align=\"L\")\n",
      "<ipython-input-418-bdaf86fc17fb>:82: DeprecationWarning: The parameter \"ln\" is deprecated since v2.5.2. Instead of ln=True use new_x=XPos.LMARGIN, new_y=YPos.NEXT.\n",
      "  pdf.cell(200, 10, txt=\"Drawdown - Key Points\", ln=True, align=\"L\")\n",
      "<ipython-input-418-bdaf86fc17fb>:88: DeprecationWarning: The parameter \"txt\" has been renamed to \"text\" in 2.7.6\n",
      "  pdf.multi_cell(w=0, h=5, txt=parrafo, border=0, align=\"J\")\n",
      "<ipython-input-418-bdaf86fc17fb>:94: DeprecationWarning: The parameter \"txt\" has been renamed to \"text\" in 2.7.6\n",
      "  pdf.multi_cell(w=0, h=5, txt=parrafo, border=0, align=\"J\")\n",
      "<ipython-input-418-bdaf86fc17fb>:97: DeprecationWarning: The parameter \"txt\" has been renamed to \"text\" in 2.7.6\n",
      "  pdf.cell(200, 10, txt=f'Maximun Drawdown  % = {drawdown_max_pct} + = {drawdown_max_pctx100}%', ln=True, align=\"L\")\n",
      "<ipython-input-418-bdaf86fc17fb>:97: DeprecationWarning: The parameter \"ln\" is deprecated since v2.5.2. Instead of ln=True use new_x=XPos.LMARGIN, new_y=YPos.NEXT.\n",
      "  pdf.cell(200, 10, txt=f'Maximun Drawdown  % = {drawdown_max_pct} + = {drawdown_max_pctx100}%', ln=True, align=\"L\")\n",
      "<ipython-input-418-bdaf86fc17fb>:103: DeprecationWarning: The parameter \"txt\" has been renamed to \"text\" in 2.7.6\n",
      "  pdf.multi_cell(w=0, h=5, txt=parrafo, border=0, align=\"J\")\n",
      "<ipython-input-418-bdaf86fc17fb>:106: DeprecationWarning: The parameter \"txt\" has been renamed to \"text\" in 2.7.6\n",
      "  pdf.cell(200, 10, txt=f'Maximun Drawdown Duration = {dias_drawdown} days.', ln=True, align=\"L\")\n",
      "<ipython-input-418-bdaf86fc17fb>:106: DeprecationWarning: The parameter \"ln\" is deprecated since v2.5.2. Instead of ln=True use new_x=XPos.LMARGIN, new_y=YPos.NEXT.\n",
      "  pdf.cell(200, 10, txt=f'Maximun Drawdown Duration = {dias_drawdown} days.', ln=True, align=\"L\")\n",
      "<ipython-input-418-bdaf86fc17fb>:116: DeprecationWarning: Substituting font arial by core font helvetica - This is deprecated since v2.7.8, and will soon be removed\n",
      "  pdf.set_font(\"Arial\", 'B', 16)\n",
      "<ipython-input-418-bdaf86fc17fb>:117: DeprecationWarning: The parameter \"txt\" has been renamed to \"text\" in 2.7.6\n",
      "  pdf.cell(200, 10, txt=\"Graphic Analysis\", ln=True, align=\"L\")\n",
      "<ipython-input-418-bdaf86fc17fb>:117: DeprecationWarning: The parameter \"ln\" is deprecated since v2.5.2. Instead of ln=True use new_x=XPos.LMARGIN, new_y=YPos.NEXT.\n",
      "  pdf.cell(200, 10, txt=\"Graphic Analysis\", ln=True, align=\"L\")\n"
     ]
    },
    {
     "name": "stderr",
     "output_type": "stream",
     "text": [
      "<ipython-input-418-bdaf86fc17fb>:134: DeprecationWarning: Substituting font arial by core font helvetica - This is deprecated since v2.7.8, and will soon be removed\n",
      "  pdf.set_font(\"Arial\", '', 12)\n",
      "<ipython-input-418-bdaf86fc17fb>:136: DeprecationWarning: The parameter \"txt\" has been renamed to \"text\" in 2.7.6\n",
      "  pdf.multi_cell(w=0, h=5, txt=parrafo, border=0, align=\"J\")\n",
      "<ipython-input-418-bdaf86fc17fb>:143: DeprecationWarning: Substituting font arial by core font helvetica - This is deprecated since v2.7.8, and will soon be removed\n",
      "  pdf.set_font(\"Arial\", 'B', 16)\n",
      "<ipython-input-418-bdaf86fc17fb>:144: DeprecationWarning: The parameter \"txt\" has been renamed to \"text\" in 2.7.6\n",
      "  pdf.cell(200, 10, txt=\"Graphic Analysis\", ln=True, align=\"L\")\n",
      "<ipython-input-418-bdaf86fc17fb>:144: DeprecationWarning: The parameter \"ln\" is deprecated since v2.5.2. Instead of ln=True use new_x=XPos.LMARGIN, new_y=YPos.NEXT.\n",
      "  pdf.cell(200, 10, txt=\"Graphic Analysis\", ln=True, align=\"L\")\n",
      "<ipython-input-418-bdaf86fc17fb>:161: DeprecationWarning: Substituting font arial by core font helvetica - This is deprecated since v2.7.8, and will soon be removed\n",
      "  pdf.set_font(\"Arial\", '', 12)\n",
      "<ipython-input-418-bdaf86fc17fb>:163: DeprecationWarning: The parameter \"txt\" has been renamed to \"text\" in 2.7.6\n",
      "  pdf.multi_cell(w=0, h=5, txt=parrafo, border=0, align=\"J\")\n",
      "<ipython-input-418-bdaf86fc17fb>:169: DeprecationWarning: Substituting font arial by core font helvetica - This is deprecated since v2.7.8, and will soon be removed\n",
      "  pdf.set_font(\"Arial\", 'B', 16)\n",
      "<ipython-input-418-bdaf86fc17fb>:170: DeprecationWarning: The parameter \"txt\" has been renamed to \"text\" in 2.7.6\n",
      "  pdf.cell(200, 10, txt=\"Graphic Analysis\", ln=True, align=\"L\")\n",
      "<ipython-input-418-bdaf86fc17fb>:170: DeprecationWarning: The parameter \"ln\" is deprecated since v2.5.2. Instead of ln=True use new_x=XPos.LMARGIN, new_y=YPos.NEXT.\n",
      "  pdf.cell(200, 10, txt=\"Graphic Analysis\", ln=True, align=\"L\")\n"
     ]
    },
    {
     "name": "stdout",
     "output_type": "stream",
     "text": [
      "The report has been saved successfully.! MSFT - Cumm Returns & Drawdown Analysis Report.pdf\n"
     ]
    },
    {
     "name": "stderr",
     "output_type": "stream",
     "text": [
      "<ipython-input-418-bdaf86fc17fb>:187: DeprecationWarning: Substituting font arial by core font helvetica - This is deprecated since v2.7.8, and will soon be removed\n",
      "  pdf.set_font(\"Arial\", '', 12)\n",
      "<ipython-input-418-bdaf86fc17fb>:189: DeprecationWarning: The parameter \"txt\" has been renamed to \"text\" in 2.7.6\n",
      "  pdf.multi_cell(w=0, h=5, txt=parrafo, border=0, align=\"J\")\n"
     ]
    }
   ],
   "source": [
    "# 1. Create a new PDF object\n",
    "pdf = FPDF()\n",
    "\n",
    "# 2. Add a page Page 1. Portada y Resumen Ejecutivo\n",
    "pdf.add_page()\n",
    "\n",
    "# 3. Set a font\n",
    "pdf.set_font(\"Helvetica\",\"B\", size=16)\n",
    "\n",
    "# 4. Add a cell for the title\n",
    "# The cell is a rectangular area where content is placed.\n",
    "pdf.cell(200, 10, txt=f'{ticker} - Financial Analysis Report.', ln=True, align=\"L\")\n",
    "pdf.ln(10) # Add 10mm of vertical space\n",
    "\n",
    "# 5. Add more text\n",
    "pdf.set_font(\"Helvetica\", \"B\", size=12)\n",
    "pdf.cell(200, 10, txt=f'Cumm Returns & Drawdown Analysis for {longName}', ln=True)\n",
    "pdf.set_font(\"Helvetica\", \"\", size=12)\n",
    "pdf.cell(200, 10, txt=f'Date Period: From {start} to {end}.', ln=True)\n",
    "pdf.cell(200, 10, txt=f'Industry: {industry}.', ln=True)\n",
    "pdf.cell(200, 10, txt=f'MarketCap: {marketCap} Bn.', ln=True)\n",
    "pdf.cell(200, 10, txt=\"Executive Summary:\", ln=True)\n",
    "pdf.set_font(\"Helvetica\", size=12)\n",
    "# Add the paragraph to the PDF\n",
    "# w: Width of the cell (0 means it extends to the right margin)\n",
    "# h: Height of each line (in mm)\n",
    "# txt: The text to be added\n",
    "# border: Set to 1 to see the cell borders\n",
    "parrafo = \"\"\"This report presents a detailed analysis of a financial asset's performance using Python and data science libraries such as Pandas and Matplotlib. Cumulative return was calculated to visualize the investment's historical growth, as well as the maximum cumulative return achieved over the period. Additionally, the asset's downside risk was analyzed using maximum drawdown, a critical metric that measures the largest percentage loss from a peak. The results provide a clear assessment of investment profitability and risk, demonstrating my ability to use quantitative analysis tools and communicate complex findings concisely..\"\"\"\n",
    "pdf.multi_cell(w=0, h=5, txt=parrafo, border=0, align=\"J\")\n",
    "pdf.ln(2)\n",
    "\n",
    "pdf.set_font(\"Helvetica\", \"\", size=12)\n",
    "pdf.cell(200, 10, txt='Tools: Python Libraries: Pandas, Matplotlib, Seaborn, FPDF, Yfinance, Datetime.', ln=True)\n",
    "pdf.ln(10) # Add 10mm of vertical spacepdf.cell(200, 10, txt=f'Report Date: {today_format}.', ln=True)\n",
    "\n",
    "pdf.cell(200,10, text=f'Report Date: {today_format}.', ln=True)\n",
    "\n",
    "# --- Página 2: Datos y Análisis de Rendimiento Encabezado: \"Métricas Clave\"\n",
    "pdf.add_page()  # Añade una nueva página en blanco\n",
    "pdf.set_font(\"Arial\", 'B', 16)\n",
    "pdf.cell(200, 10, txt=\"Accumulated Return & Drawdown Analysis\", ln=True, align=\"L\")\n",
    "pdf.ln(10) # Add 10mm of vertical space\n",
    "\n",
    "pdf.set_font(\"Arial\", 'B', 12)\n",
    "pdf.cell(200, 10, txt=\"Accumulated Return - Interpretation\", ln=True, align=\"L\")\n",
    "pdf.ln(2) # Add 10mm of vertical space\n",
    "\n",
    "pdf.set_font(\"Helvetica\",\"\", size=10)\n",
    "# Add the paragraph to the PDF\n",
    "# w: Width of the cell (0 means it extends to the right margin)\n",
    "# h: Height of each line (in mm)\n",
    "# txt: The text to be added\n",
    "# border: Set to 1 to see the cell borders\n",
    "parrafo = \"\"\"Cumulative return is a key metric that represents the total performance of a financial asset over a period of time. It is calculated by multiplying daily (or periodic) returns sequentially.\"\"\"\n",
    "pdf.multi_cell(w=0, h=5, txt=parrafo, border=0, align=\"J\")\n",
    "pdf.ln(2)\n",
    "\n",
    "parrafo = \"\"\"The cumulative return value tells you how much an initial investment, say $1, would have grown (or decreased) over a given period. This is the value that truly matters to an investor.\"\"\"\n",
    "pdf.multi_cell(w=0, h=5, txt=parrafo, border=0, align=\"J\")\n",
    "pdf.ln(2)\n",
    "\n",
    "pdf.cell(200, 10, txt=f'Accumulated Return(1$) = {dolar_invest}', ln=True, align=\"L\")\n",
    "pdf.ln(10) # Add 10mm of vertical space\n",
    "\n",
    "\n",
    "pdf.set_font(\"Arial\", 'B', 12)\n",
    "pdf.cell(200, 10, txt=\"Drawdown - Interpretation\", ln=True, align=\"L\")\n",
    "pdf.ln(2) # Add 10mm of vertical space\n",
    "\n",
    "pdf.set_font(\"Helvetica\",\"\", size=10)\n",
    "# Add the paragraph to the PDF\n",
    "# w: Width of the cell (0 means it extends to the right margin)\n",
    "# h: Height of each line (in mm)\n",
    "# txt: The text to be added\n",
    "# border: Set to 1 to see the cell borders\n",
    "parrafo = \"\"\"Drawdown is a measure of the risk of loss that a financial asset or investment portfolio has experienced since its peak. It represents the decline in the value of an investment from its highest point to its lowest point before it recovers to reach a new high.\"\"\"\n",
    "pdf.multi_cell(w=0, h=5, txt=parrafo, border=0, align=\"J\")\n",
    "pdf.ln(2)\n",
    "\n",
    "pdf.set_font(\"Arial\", 'B', 10)\n",
    "pdf.cell(200, 10, txt=\"Drawdown - Key Points\", ln=True, align=\"L\")\n",
    "pdf.ln(2) # Add 10mm of vertical space\n",
    "\n",
    "pdf.set_font(\"Helvetica\",\"\", size=10)\n",
    "# parrafo: Pérdida desde el pico: Es el porcentaje de pérdida que sufres si compraste el activo en su punto más alto. Un drawdown del 20% significa que tu inversión ha perdido el 20% de su valor desde que alcanzó su último pico.\n",
    "parrafo = \"\"\"Loss since peak: This is the percentage loss you would suffer if you bought the asset at its peak. A 20% drawdown means your investment has lost 20% of its value since its last peak.\"\"\"\n",
    "pdf.multi_cell(w=0, h=5, txt=parrafo, border=0, align=\"J\")\n",
    "pdf.ln(2)\n",
    "\n",
    "pdf.set_font(\"Helvetica\",\"\", size=10)\n",
    "# parrafo: Drawdown máximo: Esta es la métrica más importante y representa la mayor pérdida porcentual que una inversión ha experimentado durante un período específico. Por ejemplo, si el drawdown máximo de una acción fue del 50% en un año, significa que en algún momento, el activo perdió la mitad de su valor antes de volver a subir.\n",
    "parrafo = \"\"\"Maximum drawdown: This is the most important metric and represents the largest percentage loss an investment has experienced over a specific period. For example, if a stock's maximum drawdown was 50% in a year, it means that at some point, the asset lost half of its value before recovering.\"\"\"\n",
    "pdf.multi_cell(w=0, h=5, txt=parrafo, border=0, align=\"J\")\n",
    "pdf.ln(2)\n",
    "\n",
    "pdf.cell(200, 10, txt=f'Maximun Drawdown  % = {drawdown_max_pct} + = {drawdown_max_pctx100}%', ln=True, align=\"L\")\n",
    "pdf.ln(2) # Add 10mm of vertical space\n",
    "\n",
    "pdf.set_font(\"Helvetica\",\"\", size=10)\n",
    "# parrafo: Duración del Drawdown: Mide cuánto tiempo se tarda en recuperar las pérdidas y volver al valor máximo anterior. Un drawdown puede durar días, meses o incluso años.\n",
    "parrafo = \"\"\"Drawdown Duration: Measures how long it takes to recover losses and return to the previous peak. A drawdown can last days, months, or even years.\"\"\"\n",
    "pdf.multi_cell(w=0, h=5, txt=parrafo, border=0, align=\"J\")\n",
    "pdf.ln(2)\n",
    "\n",
    "pdf.cell(200, 10, txt=f'Maximun Drawdown Duration = {dias_drawdown} days.', ln=True, align=\"L\")\n",
    "pdf.ln(2) # Add 10mm of vertical space\n",
    "\n",
    "\n",
    "\n",
    "\n",
    "\n",
    "\n",
    "# --- Página 3: Análisis Gráfico Encabezado: \"Distribución de Retornos\n",
    "pdf.add_page(orientation = 'L')  # Añade una nueva página en blanco\n",
    "pdf.set_font(\"Arial\", 'B', 16)\n",
    "pdf.cell(200, 10, txt=\"Graphic Analysis\", ln=True, align=\"L\")\n",
    "\n",
    "# Agregar la imagen\n",
    "# pdf.image(nombre, x, y, ancho)\n",
    "# x=10: 10 mm desde el margen izquierdo.\n",
    "# y=20: 20 mm desde la parte superior.\n",
    "# Obtener el ancho de la página y el ancho de la imagen\n",
    "ancho_pagina = pdf.w\n",
    "ancho_imagen = 200 # Ancho deseado de la imagen en mm\n",
    "\n",
    "# Calcular la posición 'x' para centrar la imagen\n",
    "# Formula: (Ancho de la página - Ancho de la imagen) / 2\n",
    "x_centrado = (ancho_pagina - ancho_imagen) / 2\n",
    "\n",
    "pdf.image(nombre_imagen1, x=x_centrado, y=20, w=220)\n",
    "pdf.ln(150) # Add 10mm of vertical space\n",
    "\n",
    "pdf.set_font(\"Arial\", '', 12)\n",
    "parrafo = \"\"\"Graph Interpretation: Explain what the chart shows. It allows you to visualize the growth or loss of an initial capital (for example, $100) and is one of the most intuitive tools to understand the performance of an asset..\"\"\"\n",
    "pdf.multi_cell(w=0, h=5, txt=parrafo, border=0, align=\"J\")\n",
    "# Move the cursor down for the next content\n",
    "pdf.ln(5) # Add 10mm of vertical space\n",
    "\n",
    "\n",
    "# --- Página 4: Análisis Gráfico Encabezado: \"Distribución de Retornos\n",
    "pdf.add_page(orientation = 'L')  # Añade una nueva página en blanco\n",
    "pdf.set_font(\"Arial\", 'B', 16)\n",
    "pdf.cell(200, 10, txt=\"Graphic Analysis\", ln=True, align=\"L\")\n",
    "\n",
    "# Agregar la imagen\n",
    "# pdf.image(nombre, x, y, ancho)\n",
    "# x=10: 10 mm desde el margen izquierdo.\n",
    "# y=20: 20 mm desde la parte superior.\n",
    "# Obtener el ancho de la página y el ancho de la imagen\n",
    "ancho_pagina = pdf.w\n",
    "ancho_imagen = 200 # Ancho deseado de la imagen en mm\n",
    "\n",
    "# Calcular la posición 'x' para centrar la imagen\n",
    "# Formula: (Ancho de la página - Ancho de la imagen) / 2\n",
    "x_centrado = (ancho_pagina - ancho_imagen) / 2\n",
    "\n",
    "pdf.image(nombre_imagen2, x=x_centrado, y=20, w=220)\n",
    "pdf.ln(150) # Add 10mm of vertical space\n",
    "\n",
    "pdf.set_font(\"Arial\", '', 12)\n",
    "parrafo = \"\"\"Graph Interpretation: Explain what the chart shows. A curve with sharp peaks and valleys indicates high volatility. Drawdowns (drops from a peak) are clearly visible as declines on the chart, allowing you to identify periods of greatest losses and how long it took the investment to recover..\"\"\"\n",
    "pdf.multi_cell(w=0, h=5, txt=parrafo, border=0, align=\"J\")\n",
    "# Move the cursor down for the next content\n",
    "pdf.ln(5) # Add 10mm of vertical space\n",
    "\n",
    "# --- Página 5: Análisis Gráfico Encabezado: \"Distribución de Retornos\n",
    "pdf.add_page(orientation = 'L')  # Añade una nueva página en blanco\n",
    "pdf.set_font(\"Arial\", 'B', 16)\n",
    "pdf.cell(200, 10, txt=\"Graphic Analysis\", ln=True, align=\"L\")\n",
    "\n",
    "# Agregar la imagen\n",
    "# pdf.image(nombre, x, y, ancho)\n",
    "# x=10: 10 mm desde el margen izquierdo.\n",
    "# y=20: 20 mm desde la parte superior.\n",
    "# Obtener el ancho de la página y el ancho de la imagen\n",
    "ancho_pagina = pdf.w\n",
    "ancho_imagen = 200 # Ancho deseado de la imagen en mm\n",
    "\n",
    "# Calcular la posición 'x' para centrar la imagen\n",
    "# Formula: (Ancho de la página - Ancho de la imagen) / 2\n",
    "x_centrado = (ancho_pagina - ancho_imagen) / 2\n",
    "\n",
    "pdf.image(nombre_imagen3, x=x_centrado, y=20, w=220)\n",
    "pdf.ln(150) # Add 10mm of vertical space\n",
    "\n",
    "pdf.set_font(\"Arial\", '', 12)\n",
    "parrafo = \"\"\"Graph Interpretation: Explain what the chart shows. A curve with sharp peaks and valleys indicates high volatility. Drawdowns (drops from a peak) are clearly visible as declines on the chart, allowing you to identify periods of greatest losses and how long it took the investment to recover..\"\"\"\n",
    "pdf.multi_cell(w=0, h=5, txt=parrafo, border=0, align=\"J\")\n",
    "# Move the cursor down for the next content\n",
    "pdf.ln(5) # Add 10mm of vertical space\n",
    "\n",
    "\n",
    "\n",
    "# 6. Save the PDF\n",
    "filename_doc = f'{ticker} - Cumm Returns & Drawdown Analysis Report.pdf'\n",
    "pdf.output(filename_doc)\n",
    "print(f'The report has been saved successfully.! {filename_doc}')"
   ]
  },
  {
   "cell_type": "code",
   "execution_count": null,
   "metadata": {},
   "outputs": [],
   "source": []
  }
 ],
 "metadata": {
  "hide_input": false,
  "kernelspec": {
   "display_name": "Python 3",
   "language": "python",
   "name": "python3"
  },
  "language_info": {
   "codemirror_mode": {
    "name": "ipython",
    "version": 3
   },
   "file_extension": ".py",
   "mimetype": "text/x-python",
   "name": "python",
   "nbconvert_exporter": "python",
   "pygments_lexer": "ipython3",
   "version": "3.8.5"
  },
  "toc": {
   "base_numbering": 1,
   "nav_menu": {},
   "number_sections": true,
   "sideBar": true,
   "skip_h1_title": false,
   "title_cell": "Table of Contents",
   "title_sidebar": "Contents",
   "toc_cell": false,
   "toc_position": {},
   "toc_section_display": true,
   "toc_window_display": false
  },
  "varInspector": {
   "cols": {
    "lenName": 16,
    "lenType": 16,
    "lenVar": 40
   },
   "kernels_config": {
    "python": {
     "delete_cmd_postfix": "",
     "delete_cmd_prefix": "del ",
     "library": "var_list.py",
     "varRefreshCmd": "print(var_dic_list())"
    },
    "r": {
     "delete_cmd_postfix": ") ",
     "delete_cmd_prefix": "rm(",
     "library": "var_list.r",
     "varRefreshCmd": "cat(var_dic_list()) "
    }
   },
   "types_to_exclude": [
    "module",
    "function",
    "builtin_function_or_method",
    "instance",
    "_Feature"
   ],
   "window_display": false
  }
 },
 "nbformat": 4,
 "nbformat_minor": 4
}
